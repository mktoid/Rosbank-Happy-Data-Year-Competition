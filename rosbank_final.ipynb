{
  "nbformat": 4,
  "nbformat_minor": 0,
  "metadata": {
    "colab": {
      "name": "rosbank_final.ipynb",
      "version": "0.3.2",
      "provenance": []
    },
    "kernelspec": {
      "name": "python3",
      "display_name": "Python 3"
    }
  },
  "cells": [
    {
      "metadata": {
        "id": "TQqpzqTYlBJ9",
        "colab_type": "code",
        "outputId": "c9c2c837-0777-4395-fce1-7d4c3c705639",
        "colab": {
          "base_uri": "https://localhost:8080/",
          "height": 34
        }
      },
      "cell_type": "code",
      "source": [
        "import numpy as np\n",
        "import pandas as pd\n",
        "\n",
        "train = pd.read_csv('train.csv')\n",
        "test = pd.read_csv('test.csv')\n",
        "address = pd.read_csv('address_combined_pochta_yandex_centers.csv')\n",
        "address.columns = ['address_rus','address_norm','address_post',\t'address_yandex',\t'address_lon','address_lat', 'SuperAdministrativeAreaName', 'AdministrativeAreaName',\n",
        "       'SubAdministrativeAreaName', 'LocalityName', 'city', 'citycenter_lon',\n",
        "       'citycenter_lat']\n",
        "alfa = pd.read_csv('alfa-atms.csv')\n",
        "sber = pd.read_csv('sber-atms-v2.csv')\n",
        "sber = sber[np.isfinite(sber['lon'])]\n",
        "\n",
        "salary = pd.read_csv('salary_v2.csv')\n",
        "population = pd.read_csv('population_v2.csv')\n",
        "\n",
        "train.shape, test.shape, address.shape, alfa.shape, sber.shape, salary.shape, population.shape"
      ],
      "execution_count": 0,
      "outputs": [
        {
          "output_type": "execute_result",
          "data": {
            "text/plain": [
              "((6261, 8), (2504, 7), (6502, 13), (21043, 17), (28614, 4), (93, 2), (92, 4))"
            ]
          },
          "metadata": {
            "tags": []
          },
          "execution_count": 64
        }
      ]
    },
    {
      "metadata": {
        "id": "DZs0PueVlmtQ",
        "colab_type": "code",
        "outputId": "7582c52b-11bf-45b6-81b5-c5c6f62f3757",
        "colab": {
          "base_uri": "https://localhost:8080/",
          "height": 136
        }
      },
      "cell_type": "code",
      "source": [
        "train['is_train'] = 1\n",
        "test['is_train'] = 0\n",
        "\n",
        "df = train.append(test)\n",
        "df.sample(3)"
      ],
      "execution_count": 0,
      "outputs": [
        {
          "output_type": "execute_result",
          "data": {
            "text/html": [
              "<div>\n",
              "<style scoped>\n",
              "    .dataframe tbody tr th:only-of-type {\n",
              "        vertical-align: middle;\n",
              "    }\n",
              "\n",
              "    .dataframe tbody tr th {\n",
              "        vertical-align: top;\n",
              "    }\n",
              "\n",
              "    .dataframe thead th {\n",
              "        text-align: right;\n",
              "    }\n",
              "</style>\n",
              "<table border=\"1\" class=\"dataframe\">\n",
              "  <thead>\n",
              "    <tr style=\"text-align: right;\">\n",
              "      <th></th>\n",
              "      <th>Unnamed: 0</th>\n",
              "      <th>address</th>\n",
              "      <th>address_rus</th>\n",
              "      <th>atm_group</th>\n",
              "      <th>id</th>\n",
              "      <th>is_train</th>\n",
              "      <th>lat</th>\n",
              "      <th>long</th>\n",
              "      <th>target</th>\n",
              "    </tr>\n",
              "  </thead>\n",
              "  <tbody>\n",
              "    <tr>\n",
              "      <th>5996</th>\n",
              "      <td>5996</td>\n",
              "      <td>D. 31, UL. KOL'COVSKAYA   VORONEZH G</td>\n",
              "      <td>Кольцовская улица, 31, Воронеж, Россия, 394030</td>\n",
              "      <td>5478.0</td>\n",
              "      <td>7870.0</td>\n",
              "      <td>1</td>\n",
              "      <td>51.668473</td>\n",
              "      <td>39.193056</td>\n",
              "      <td>-0.053925</td>\n",
              "    </tr>\n",
              "    <tr>\n",
              "      <th>1639</th>\n",
              "      <td>1639</td>\n",
              "      <td>211-2 MIRA AV.            MOSCOW</td>\n",
              "      <td>проспект Мира, 211к2, Москва, Россия, 129226</td>\n",
              "      <td>1942.0</td>\n",
              "      <td>1532.0</td>\n",
              "      <td>1</td>\n",
              "      <td>55.845855</td>\n",
              "      <td>37.662093</td>\n",
              "      <td>0.057036</td>\n",
              "    </tr>\n",
              "    <tr>\n",
              "      <th>1543</th>\n",
              "      <td>1543</td>\n",
              "      <td>GAGARINA 7                PETROVSKOE</td>\n",
              "      <td>улица Гагарина, 7, Махачкала, Республика Дагес...</td>\n",
              "      <td>496.5</td>\n",
              "      <td>8769.0</td>\n",
              "      <td>0</td>\n",
              "      <td>42.960955</td>\n",
              "      <td>47.496157</td>\n",
              "      <td>NaN</td>\n",
              "    </tr>\n",
              "  </tbody>\n",
              "</table>\n",
              "</div>"
            ],
            "text/plain": [
              "      Unnamed: 0                                 address  \\\n",
              "5996        5996  D. 31, UL. KOL'COVSKAYA   VORONEZH G     \n",
              "1639        1639  211-2 MIRA AV.            MOSCOW         \n",
              "1543        1543  GAGARINA 7                PETROVSKOE     \n",
              "\n",
              "                                            address_rus  atm_group      id  \\\n",
              "5996     Кольцовская улица, 31, Воронеж, Россия, 394030     5478.0  7870.0   \n",
              "1639       проспект Мира, 211к2, Москва, Россия, 129226     1942.0  1532.0   \n",
              "1543  улица Гагарина, 7, Махачкала, Республика Дагес...      496.5  8769.0   \n",
              "\n",
              "      is_train        lat       long    target  \n",
              "5996         1  51.668473  39.193056 -0.053925  \n",
              "1639         1  55.845855  37.662093  0.057036  \n",
              "1543         0  42.960955  47.496157       NaN  "
            ]
          },
          "metadata": {
            "tags": []
          },
          "execution_count": 65
        }
      ]
    },
    {
      "metadata": {
        "id": "vVW2BEAnMjbz",
        "colab_type": "code",
        "colab": {}
      },
      "cell_type": "code",
      "source": [
        "df.address_rus = df.apply(lambda row: row.address_rus if len(str(row.address_rus)) > 3 else row.address, axis=1)"
      ],
      "execution_count": 0,
      "outputs": []
    },
    {
      "metadata": {
        "id": "mnBBh36Pl7DU",
        "colab_type": "code",
        "colab": {}
      },
      "cell_type": "code",
      "source": [
        "df = df.merge(address, how='left', on='address_rus')"
      ],
      "execution_count": 0,
      "outputs": []
    },
    {
      "metadata": {
        "id": "ssBouX1XmGpk",
        "colab_type": "code",
        "colab": {}
      },
      "cell_type": "code",
      "source": [
        "df['lat'] = df.apply(lambda row: row.lat if np.isfinite(row.lat) else row.address_lat , axis=1)\n",
        "df['long'] = df.apply(lambda row: row.long if np.isfinite(row.long) else row.address_lon , axis=1)"
      ],
      "execution_count": 0,
      "outputs": []
    },
    {
      "metadata": {
        "id": "kvvQKTQAmHzW",
        "colab_type": "code",
        "outputId": "32137758-2982-4755-a5a4-20a44d167e0c",
        "colab": {
          "base_uri": "https://localhost:8080/",
          "height": 226
        }
      },
      "cell_type": "code",
      "source": [
        "import re\n",
        "\n",
        "def normalize_address_rus(txt):\n",
        "  \n",
        "  pattern = re.compile('\\d{6}')\n",
        "\n",
        "  txt = str(txt).replace('Россия','')\n",
        "  txt = txt.replace(' г ', ' ')\n",
        "  txt = txt.replace(' область', ' обл')\n",
        "  t2 = list()\n",
        "  t = txt.split(',')\n",
        "  for item in t:\n",
        "    if len( item.strip() ) > 0:\n",
        "      m = re.search('\\d{6}', item.strip())\n",
        "      try:\n",
        "        m.group(0)\n",
        "      except:\n",
        "        t2.append(item.strip())\n",
        "  addr = ', '.join(t2)\n",
        "\n",
        "\n",
        "  m = re.search('\\d{6}', txt)\n",
        "\n",
        "  try:\n",
        "    postal = m.group(0)\n",
        "  except:\n",
        "    postal = '000000'\n",
        "\n",
        "  addr = addr + ', ' + postal\n",
        "\n",
        "  return addr\n",
        "\n",
        "def reverse_address(txt):\n",
        "  t = str(txt).split(', ')\n",
        "  list.reverse(t)\n",
        "  return ', '.join(t) \n",
        "\n",
        "def post_code(txt):\n",
        "  p = re.compile(r'\\d{6}')\n",
        "  res = p.findall(str(txt))\n",
        "\n",
        "  if len(res) > 0:\n",
        "    return res[0]\n",
        "  else:\n",
        "    return '000000'\n",
        "\n",
        "df.address_yandex = df.address_yandex.apply(normalize_address_rus).apply(reverse_address)\n",
        "df['address_norm'] = df.apply(lambda row: row.address_norm if len(str(row.address_norm)) > 3 else row.address_yandex , axis=1)\n",
        "df['post_code'] = df['address_norm'].apply(post_code).astype(np.float32)\n",
        "df.sample()"
      ],
      "execution_count": 0,
      "outputs": [
        {
          "output_type": "execute_result",
          "data": {
            "text/html": [
              "<div>\n",
              "<style scoped>\n",
              "    .dataframe tbody tr th:only-of-type {\n",
              "        vertical-align: middle;\n",
              "    }\n",
              "\n",
              "    .dataframe tbody tr th {\n",
              "        vertical-align: top;\n",
              "    }\n",
              "\n",
              "    .dataframe thead th {\n",
              "        text-align: right;\n",
              "    }\n",
              "</style>\n",
              "<table border=\"1\" class=\"dataframe\">\n",
              "  <thead>\n",
              "    <tr style=\"text-align: right;\">\n",
              "      <th></th>\n",
              "      <th>Unnamed: 0</th>\n",
              "      <th>address</th>\n",
              "      <th>address_rus</th>\n",
              "      <th>atm_group</th>\n",
              "      <th>id</th>\n",
              "      <th>is_train</th>\n",
              "      <th>lat</th>\n",
              "      <th>long</th>\n",
              "      <th>target</th>\n",
              "      <th>address_norm</th>\n",
              "      <th>...</th>\n",
              "      <th>address_lon</th>\n",
              "      <th>address_lat</th>\n",
              "      <th>SuperAdministrativeAreaName</th>\n",
              "      <th>AdministrativeAreaName</th>\n",
              "      <th>SubAdministrativeAreaName</th>\n",
              "      <th>LocalityName</th>\n",
              "      <th>city</th>\n",
              "      <th>citycenter_lon</th>\n",
              "      <th>citycenter_lat</th>\n",
              "      <th>post_code</th>\n",
              "    </tr>\n",
              "  </thead>\n",
              "  <tbody>\n",
              "    <tr>\n",
              "      <th>2543</th>\n",
              "      <td>2543</td>\n",
              "      <td>RADISHEVA 65/2            SARATOV</td>\n",
              "      <td>улица имени А.Н. Радищева, 65/2, Саратов, Россия</td>\n",
              "      <td>496.5</td>\n",
              "      <td>4559.0</td>\n",
              "      <td>1</td>\n",
              "      <td>51.536991</td>\n",
              "      <td>46.039287</td>\n",
              "      <td>-0.063662</td>\n",
              "      <td>410003, г Саратов, ул им Радищева А.Н., д 65/2</td>\n",
              "      <td>...</td>\n",
              "      <td>46.040994</td>\n",
              "      <td>51.541226</td>\n",
              "      <td>Приволжский федеральный округ</td>\n",
              "      <td>Саратовская область</td>\n",
              "      <td>городской округ Саратов</td>\n",
              "      <td>Саратов</td>\n",
              "      <td>Приволжский федеральный округ Саратовская обла...</td>\n",
              "      <td>46.034158</td>\n",
              "      <td>51.533103</td>\n",
              "      <td>410003.0</td>\n",
              "    </tr>\n",
              "  </tbody>\n",
              "</table>\n",
              "<p>1 rows × 22 columns</p>\n",
              "</div>"
            ],
            "text/plain": [
              "      Unnamed: 0                                 address  \\\n",
              "2543        2543  RADISHEVA 65/2            SARATOV        \n",
              "\n",
              "                                           address_rus  atm_group      id  \\\n",
              "2543  улица имени А.Н. Радищева, 65/2, Саратов, Россия      496.5  4559.0   \n",
              "\n",
              "      is_train        lat       long    target  \\\n",
              "2543         1  51.536991  46.039287 -0.063662   \n",
              "\n",
              "                                        address_norm    ...     address_lon  \\\n",
              "2543  410003, г Саратов, ул им Радищева А.Н., д 65/2    ...       46.040994   \n",
              "\n",
              "     address_lat    SuperAdministrativeAreaName  AdministrativeAreaName  \\\n",
              "2543   51.541226  Приволжский федеральный округ     Саратовская область   \n",
              "\n",
              "     SubAdministrativeAreaName LocalityName  \\\n",
              "2543   городской округ Саратов      Саратов   \n",
              "\n",
              "                                                   city citycenter_lon  \\\n",
              "2543  Приволжский федеральный округ Саратовская обла...      46.034158   \n",
              "\n",
              "     citycenter_lat  post_code  \n",
              "2543      51.533103   410003.0  \n",
              "\n",
              "[1 rows x 22 columns]"
            ]
          },
          "metadata": {
            "tags": []
          },
          "execution_count": 69
        }
      ]
    },
    {
      "metadata": {
        "id": "Hj3xfKZdmRei",
        "colab_type": "code",
        "colab": {}
      },
      "cell_type": "code",
      "source": [
        "import math\n",
        "\n",
        "#kremlin_lat, kremlin_lon = 55.753722, 37.620657\n",
        "\n",
        "def dist_calc(lat1, lon1, lat2, lon2):\n",
        "    R = 6373.0\n",
        "\n",
        "    lat1 = math.radians(lat1)\n",
        "    lon1 = math.radians(lon1)\n",
        "    lat2 = math.radians(lat2)\n",
        "    lon2 = math.radians(lon2)\n",
        "\n",
        "    dlon = lon2 - lon1\n",
        "    dlat = lat2 - lat1\n",
        "\n",
        "    a = math.sin(dlat / 2)**2 + math.cos(lat1) * math.cos(lat2) * math.sin(dlon / 2)**2\n",
        "    c = 2 * math.atan2(math.sqrt(a), math.sqrt(1 - a))\n",
        "\n",
        "    return R * c\n",
        "  \n",
        "\n",
        "#df['distance_to_kremlin'] = df.apply(\n",
        "#    lambda row: dist_calc(row.lat, row.long, kremlin_lat, kremlin_lon), axis=1)\n",
        "\n",
        "df['distance_to_citycenter'] = df.apply(\n",
        "    lambda row: dist_calc(row.lat, row.long, row.citycenter_lat, row.citycenter_lon), axis=1)"
      ],
      "execution_count": 0,
      "outputs": []
    },
    {
      "metadata": {
        "id": "rpCo_Uy3nsDX",
        "colab_type": "code",
        "outputId": "78507ecf-7d74-4208-e14c-f9016d496fc8",
        "colab": {
          "base_uri": "https://localhost:8080/",
          "height": 118
        }
      },
      "cell_type": "code",
      "source": [
        "!pip install osmread"
      ],
      "execution_count": 0,
      "outputs": [
        {
          "output_type": "stream",
          "text": [
            "Requirement already satisfied: osmread in /usr/local/lib/python3.6/dist-packages (0.2)\n",
            "Requirement already satisfied: lxml in /usr/local/lib/python3.6/dist-packages (from osmread) (4.2.6)\n",
            "Requirement already satisfied: argparse in /usr/local/lib/python3.6/dist-packages (from osmread) (1.4.0)\n",
            "Requirement already satisfied: protobuf==3.0.0b3 in /usr/local/lib/python3.6/dist-packages (from osmread) (3.0.0b3)\n",
            "Requirement already satisfied: six>=1.9 in /usr/local/lib/python3.6/dist-packages (from protobuf==3.0.0b3->osmread) (1.11.0)\n",
            "Requirement already satisfied: setuptools in /usr/local/lib/python3.6/dist-packages (from protobuf==3.0.0b3->osmread) (40.6.3)\n"
          ],
          "name": "stdout"
        }
      ]
    },
    {
      "metadata": {
        "id": "evMAyytyn68c",
        "colab_type": "code",
        "outputId": "0256ee86-654e-4cf3-f2ac-098546589883",
        "colab": {
          "base_uri": "https://localhost:8080/",
          "height": 87
        }
      },
      "cell_type": "code",
      "source": [
        "%%time\n",
        "tagged_nodes = pd.read_pickle('osm_tagged_nodes.pickle')\n",
        "print(tagged_nodes[0])"
      ],
      "execution_count": 0,
      "outputs": [
        {
          "output_type": "stream",
          "text": [
            "Node(id=2, version=22, changeset=0, timestamp=1504860129, uid=0, tags={'historic': 'memorial', 'image': 'https://upload.wikimedia.org/wikipedia/commons/d/d3/Pulkovo_meridian_zero-point.jpg', 'man_made': 'survey_point', 'name': 'Пулковский Меридиан', 'wikidata': 'Q4383612', 'wikipedia': 'ru:Пулковский меридиан'}, lon=30.3260539, lat=59.7718083)\n",
            "CPU times: user 24.4 s, sys: 1.15 s, total: 25.5 s\n",
            "Wall time: 25.5 s\n"
          ],
          "name": "stdout"
        }
      ]
    },
    {
      "metadata": {
        "id": "tZ8lJZYWoFyg",
        "colab_type": "code",
        "outputId": "ce381880-fa13-4f2d-f329-313ce26b6245",
        "colab": {
          "base_uri": "https://localhost:8080/",
          "height": 84
        }
      },
      "cell_type": "code",
      "source": [
        "%%time\n",
        "import osmread\n",
        "import time\n",
        "\n",
        "print(len(tagged_nodes))\n",
        "\n",
        "idx = len(tagged_nodes)\n",
        "\n",
        "for index, row in sber.iterrows():\n",
        "  if np.isfinite(row['lat']):\n",
        "    for i in range(0, row['Количество']):\n",
        "      idx += 1\n",
        "      node = osmread.elements.Node(id=idx, version=1, changeset=0, timestamp=int(time.time()), uid=0, tags={'atm'}, lon=row['lon'], lat=row['lat'])\n",
        "      tagged_nodes.append(node)\n",
        "    \n",
        "print(len(tagged_nodes))\n",
        "\n"
      ],
      "execution_count": 0,
      "outputs": [
        {
          "output_type": "stream",
          "text": [
            "4566097\n",
            "4629688\n",
            "CPU times: user 3.49 s, sys: 1.94 ms, total: 3.49 s\n",
            "Wall time: 3.5 s\n"
          ],
          "name": "stdout"
        }
      ]
    },
    {
      "metadata": {
        "id": "Mjlheb4_w9Oa",
        "colab_type": "code",
        "outputId": "8b6f3c9a-7399-4814-deb8-e86f1d607757",
        "colab": {
          "base_uri": "https://localhost:8080/",
          "height": 34
        }
      },
      "cell_type": "code",
      "source": [
        "\n",
        "for index, row in alfa.iterrows():\n",
        "  if np.isfinite(row['lat']):\n",
        "      idx += 1\n",
        "      node = osmread.elements.Node(id=idx, version=1, changeset=0, timestamp=int(time.time()), uid=0, tags={'atm'}, lon=row['lon'], lat=row['lat'])\n",
        "      tagged_nodes.append(node)\n",
        "    \n",
        "print(len(tagged_nodes))"
      ],
      "execution_count": 0,
      "outputs": [
        {
          "output_type": "stream",
          "text": [
            "4650731\n"
          ],
          "name": "stdout"
        }
      ]
    },
    {
      "metadata": {
        "id": "55CXSsoToO8-",
        "colab_type": "code",
        "outputId": "8be18598-6506-4129-c4d4-ca42409ea1f4",
        "colab": {
          "base_uri": "https://localhost:8080/",
          "height": 50
        }
      },
      "cell_type": "code",
      "source": [
        "%%time\n",
        "\n",
        "import numpy as np\n",
        "from sklearn.neighbors import NearestNeighbors\n",
        "\n",
        "# набор фильтров точек, по которым будет считаться статистика\n",
        "POINT_FEATURE_FILTERS = [\n",
        "    ('tagged', lambda \n",
        "     node: len(node.tags) > 0),\n",
        "    ('shop', lambda node: 'shop' in node.tags),\n",
        "    ('atm', lambda node: 'atm' in node.tags),\n",
        "    ('subway', lambda node: 'subway' in node.tags),\n",
        "    ('payment:visa', lambda node: 'payment:visa' in node.tags),\n",
        "    ('parking', lambda node: 'parking' in node.tags),\n",
        "    ('subway', lambda node: 'subway' in node.tags),\n",
        "    ('amenity', lambda node: 'amenity' in node.tags),\n",
        "    ('entrance', lambda node: 'entrance' in node.tags),\n",
        "    \n",
        "    \n",
        "    ('cemetery', lambda node: 'cemetery' in node.tags),\n",
        "    ('historic', lambda node: 'historic' in node.tags),\n",
        "    ('office', lambda node: 'office' in node.tags),\n",
        "    ('religion', lambda node: 'religion' in node.tags),\n",
        "    ('highway', lambda node: 'highway' in node.tags),\n",
        "    ('train', lambda node: 'train' in node.tags),\n",
        "    ('trolleybus', lambda node: 'trolleybus' in node.tags),\n",
        "\n",
        "\n",
        "]\n",
        "\n",
        "# центры квадратов в виде матрицы\n",
        "X_zone_centers = df[['lat', 'long']].fillna(0).as_matrix()\n",
        "\n",
        "for prefix, point_filter in POINT_FEATURE_FILTERS:\n",
        "\n",
        "    # берем подмножество точек в соответствии с фильтром\n",
        "    coords = np.array([\n",
        "        [node.lat, node.lon]\n",
        "        for node in tagged_nodes\n",
        "        if point_filter(node)\n",
        "    ])\n",
        "\n",
        "    # строим структуру данных для быстрого поиска точек\n",
        "    neighbors = NearestNeighbors().fit(coords)\n",
        "    \n",
        "    # признак вида \"количество точек в радиусе R от центра квадрата\"\n",
        "    for radius in [0.001, 0.0025, 0.005, 0.01]:\n",
        "        dists, inds = neighbors.radius_neighbors(X=X_zone_centers, radius=radius)\n",
        "        df['{}_points_in_{}'.format(prefix, radius)] = np.array([len(x) for x in inds])\n",
        "\n",
        "    # признак вида \"расстояние до ближайших K точек\"\n",
        "    for n_neighbors in [2, 3, 5, 8, 13]:\n",
        "        dists, inds = neighbors.kneighbors(X=X_zone_centers, n_neighbors=n_neighbors)\n",
        "        df['{}_mean_dist_k_{}'.format(prefix, n_neighbors)] = dists.mean(axis=1)\n",
        "        # df['{}_max_dist_k_{}'.format(prefix, n_neighbors)] = dists.max(axis=1)\n",
        "        # df['{}_std_dist_k_{}'.format(prefix, n_neighbors)] = dists.std(axis=1)\n",
        "\n",
        "    # признак вида \"расстояние до ближайшей точки\"\n",
        "    df['{}_min'.format(prefix)] = dists.min(axis=1)"
      ],
      "execution_count": 0,
      "outputs": [
        {
          "output_type": "stream",
          "text": [
            "CPU times: user 44 s, sys: 84.1 ms, total: 44.1 s\n",
            "Wall time: 44 s\n"
          ],
          "name": "stdout"
        }
      ]
    },
    {
      "metadata": {
        "id": "m-1hjNzPoq1T",
        "colab_type": "code",
        "colab": {}
      },
      "cell_type": "code",
      "source": [
        "# количество банкоматов по адресу\n",
        "\n",
        "counts = df.groupby('address')['id'].count().reset_index().rename(columns={'id':'count'})\n",
        "df = df.merge(counts, how='left', on='address')\n",
        "\n",
        "# по региону\n",
        "\n",
        "counts_region = df.groupby('AdministrativeAreaName')['id'].count().reset_index().rename(columns={'id':'count_region'})\n",
        "df = df.merge(counts_region, how='left', on='AdministrativeAreaName')"
      ],
      "execution_count": 0,
      "outputs": []
    },
    {
      "metadata": {
        "id": "tGP6r1HAo3Ia",
        "colab_type": "code",
        "colab": {}
      },
      "cell_type": "code",
      "source": [
        "df['region_mean'] = df.groupby('AdministrativeAreaName')['target'].transform('mean')\n",
        "# df['region_std'] = df.groupby('AdministrativeAreaName')['target'].transform('std')"
      ],
      "execution_count": 0,
      "outputs": []
    },
    {
      "metadata": {
        "id": "CtdaJbIuS8j1",
        "colab_type": "code",
        "outputId": "fb4928bc-844d-4c61-a8ba-4da26baa6fcc",
        "colab": {
          "base_uri": "https://localhost:8080/",
          "height": 195
        }
      },
      "cell_type": "code",
      "source": [
        "population.head()"
      ],
      "execution_count": 0,
      "outputs": [
        {
          "output_type": "execute_result",
          "data": {
            "text/html": [
              "<div>\n",
              "<style scoped>\n",
              "    .dataframe tbody tr th:only-of-type {\n",
              "        vertical-align: middle;\n",
              "    }\n",
              "\n",
              "    .dataframe tbody tr th {\n",
              "        vertical-align: top;\n",
              "    }\n",
              "\n",
              "    .dataframe thead th {\n",
              "        text-align: right;\n",
              "    }\n",
              "</style>\n",
              "<table border=\"1\" class=\"dataframe\">\n",
              "  <thead>\n",
              "    <tr style=\"text-align: right;\">\n",
              "      <th></th>\n",
              "      <th>region</th>\n",
              "      <th>population2018</th>\n",
              "      <th>urban2018</th>\n",
              "      <th>rural2018</th>\n",
              "    </tr>\n",
              "  </thead>\n",
              "  <tbody>\n",
              "    <tr>\n",
              "      <th>0</th>\n",
              "      <td>Алтайский край</td>\n",
              "      <td>2350080</td>\n",
              "      <td>1326398</td>\n",
              "      <td>1023682</td>\n",
              "    </tr>\n",
              "    <tr>\n",
              "      <th>1</th>\n",
              "      <td>Амурская область</td>\n",
              "      <td>798424</td>\n",
              "      <td>537884</td>\n",
              "      <td>260540</td>\n",
              "    </tr>\n",
              "    <tr>\n",
              "      <th>2</th>\n",
              "      <td>Архангельская область</td>\n",
              "      <td>1155028</td>\n",
              "      <td>900962</td>\n",
              "      <td>254066</td>\n",
              "    </tr>\n",
              "    <tr>\n",
              "      <th>3</th>\n",
              "      <td>Астраханская область</td>\n",
              "      <td>1017514</td>\n",
              "      <td>678071</td>\n",
              "      <td>339443</td>\n",
              "    </tr>\n",
              "    <tr>\n",
              "      <th>4</th>\n",
              "      <td>Белгородская область</td>\n",
              "      <td>1549876</td>\n",
              "      <td>1044510</td>\n",
              "      <td>505366</td>\n",
              "    </tr>\n",
              "  </tbody>\n",
              "</table>\n",
              "</div>"
            ],
            "text/plain": [
              "                  region  population2018  urban2018  rural2018\n",
              "0         Алтайский край         2350080    1326398    1023682\n",
              "1       Амурская область          798424     537884     260540\n",
              "2  Архангельская область         1155028     900962     254066\n",
              "3   Астраханская область         1017514     678071     339443\n",
              "4   Белгородская область         1549876    1044510     505366"
            ]
          },
          "metadata": {
            "tags": []
          },
          "execution_count": 77
        }
      ]
    },
    {
      "metadata": {
        "id": "Y_8zQhXroF6m",
        "colab_type": "code",
        "outputId": "b347252e-5617-49ad-c79e-88b498eabb89",
        "colab": {
          "base_uri": "https://localhost:8080/",
          "height": 195
        }
      },
      "cell_type": "code",
      "source": [
        "salary.head()"
      ],
      "execution_count": 0,
      "outputs": [
        {
          "output_type": "execute_result",
          "data": {
            "text/html": [
              "<div>\n",
              "<style scoped>\n",
              "    .dataframe tbody tr th:only-of-type {\n",
              "        vertical-align: middle;\n",
              "    }\n",
              "\n",
              "    .dataframe tbody tr th {\n",
              "        vertical-align: top;\n",
              "    }\n",
              "\n",
              "    .dataframe thead th {\n",
              "        text-align: right;\n",
              "    }\n",
              "</style>\n",
              "<table border=\"1\" class=\"dataframe\">\n",
              "  <thead>\n",
              "    <tr style=\"text-align: right;\">\n",
              "      <th></th>\n",
              "      <th>region</th>\n",
              "      <th>salary</th>\n",
              "    </tr>\n",
              "  </thead>\n",
              "  <tbody>\n",
              "    <tr>\n",
              "      <th>0</th>\n",
              "      <td>Алтайский край</td>\n",
              "      <td>25656.713018</td>\n",
              "    </tr>\n",
              "    <tr>\n",
              "      <th>1</th>\n",
              "      <td>Амурская область</td>\n",
              "      <td>41825.467715</td>\n",
              "    </tr>\n",
              "    <tr>\n",
              "      <th>2</th>\n",
              "      <td>Архангельская область</td>\n",
              "      <td>46189.788230</td>\n",
              "    </tr>\n",
              "    <tr>\n",
              "      <th>3</th>\n",
              "      <td>Астраханская область</td>\n",
              "      <td>32219.054358</td>\n",
              "    </tr>\n",
              "    <tr>\n",
              "      <th>4</th>\n",
              "      <td>Белгородская область</td>\n",
              "      <td>30909.676470</td>\n",
              "    </tr>\n",
              "  </tbody>\n",
              "</table>\n",
              "</div>"
            ],
            "text/plain": [
              "                  region        salary\n",
              "0         Алтайский край  25656.713018\n",
              "1       Амурская область  41825.467715\n",
              "2  Архангельская область  46189.788230\n",
              "3   Астраханская область  32219.054358\n",
              "4   Белгородская область  30909.676470"
            ]
          },
          "metadata": {
            "tags": []
          },
          "execution_count": 78
        }
      ]
    },
    {
      "metadata": {
        "id": "4wYEvJedS_vk",
        "colab_type": "code",
        "colab": {}
      },
      "cell_type": "code",
      "source": [
        "df = df.merge(population,left_on='AdministrativeAreaName', right_on='region', how='left')\n",
        "#df = df.merge(population,left_on='SuperAdministrativeAreaName', right_on='region', how='left')\n",
        "\n",
        "df = df.merge(salary,left_on='AdministrativeAreaName', right_on='region', how='left')\n",
        "#df = df.merge(salary,left_on='SuperAdministrativeAreaName', right_on='region', how='left')"
      ],
      "execution_count": 0,
      "outputs": []
    },
    {
      "metadata": {
        "id": "KAMfl8S2UZP2",
        "colab_type": "code",
        "outputId": "e33dc17d-ee48-467a-8b1e-fc530aa02e78",
        "colab": {
          "base_uri": "https://localhost:8080/",
          "height": 370
        }
      },
      "cell_type": "code",
      "source": [
        "df.sample(3)"
      ],
      "execution_count": 0,
      "outputs": [
        {
          "output_type": "execute_result",
          "data": {
            "text/html": [
              "<div>\n",
              "<style scoped>\n",
              "    .dataframe tbody tr th:only-of-type {\n",
              "        vertical-align: middle;\n",
              "    }\n",
              "\n",
              "    .dataframe tbody tr th {\n",
              "        vertical-align: top;\n",
              "    }\n",
              "\n",
              "    .dataframe thead th {\n",
              "        text-align: right;\n",
              "    }\n",
              "</style>\n",
              "<table border=\"1\" class=\"dataframe\">\n",
              "  <thead>\n",
              "    <tr style=\"text-align: right;\">\n",
              "      <th></th>\n",
              "      <th>Unnamed: 0</th>\n",
              "      <th>address</th>\n",
              "      <th>address_rus</th>\n",
              "      <th>atm_group</th>\n",
              "      <th>id</th>\n",
              "      <th>is_train</th>\n",
              "      <th>lat</th>\n",
              "      <th>long</th>\n",
              "      <th>target</th>\n",
              "      <th>address_norm</th>\n",
              "      <th>...</th>\n",
              "      <th>trolleybus_min</th>\n",
              "      <th>count</th>\n",
              "      <th>count_region</th>\n",
              "      <th>region_mean</th>\n",
              "      <th>region_x</th>\n",
              "      <th>population2018</th>\n",
              "      <th>urban2018</th>\n",
              "      <th>rural2018</th>\n",
              "      <th>region_y</th>\n",
              "      <th>salary</th>\n",
              "    </tr>\n",
              "  </thead>\n",
              "  <tbody>\n",
              "    <tr>\n",
              "      <th>2888</th>\n",
              "      <td>2888</td>\n",
              "      <td>SVETLANOVSKAYA, 50        NOVOSIBIRSK</td>\n",
              "      <td>Светлановская улица, 50, Новосибирск, Россия, ...</td>\n",
              "      <td>3185.5</td>\n",
              "      <td>2146.0</td>\n",
              "      <td>1</td>\n",
              "      <td>55.081725</td>\n",
              "      <td>82.932871</td>\n",
              "      <td>-0.124736</td>\n",
              "      <td>630047, г Новосибирск, ул Светлановская, д 50</td>\n",
              "      <td>...</td>\n",
              "      <td>0.108751</td>\n",
              "      <td>1</td>\n",
              "      <td>277.0</td>\n",
              "      <td>-0.021194</td>\n",
              "      <td>Новосибирская область</td>\n",
              "      <td>2788849.0</td>\n",
              "      <td>2204326.0</td>\n",
              "      <td>584523.0</td>\n",
              "      <td>Новосибирская область</td>\n",
              "      <td>34001.840778</td>\n",
              "    </tr>\n",
              "    <tr>\n",
              "      <th>7184</th>\n",
              "      <td>923</td>\n",
              "      <td>UL. POBEDY D.29           NOVOKUJBYSHE</td>\n",
              "      <td>улица 50 лет Победы, 29, микрорайон Заречье, Ч...</td>\n",
              "      <td>3185.5</td>\n",
              "      <td>2301.0</td>\n",
              "      <td>0</td>\n",
              "      <td>53.236356</td>\n",
              "      <td>40.002267</td>\n",
              "      <td>NaN</td>\n",
              "      <td>399902, Липецкая обл, г Чаплыгин, ул 50 лет По...</td>\n",
              "      <td>...</td>\n",
              "      <td>0.760351</td>\n",
              "      <td>1</td>\n",
              "      <td>64.0</td>\n",
              "      <td>-0.016877</td>\n",
              "      <td>Липецкая область</td>\n",
              "      <td>1150201.0</td>\n",
              "      <td>740253.0</td>\n",
              "      <td>409948.0</td>\n",
              "      <td>Липецкая область</td>\n",
              "      <td>30128.640749</td>\n",
              "    </tr>\n",
              "    <tr>\n",
              "      <th>7939</th>\n",
              "      <td>1678</td>\n",
              "      <td>Smirnova, 9            Tomsk</td>\n",
              "      <td>улица Смирнова, 9, Томск, Россия, 634027</td>\n",
              "      <td>8083.0</td>\n",
              "      <td>3882.0</td>\n",
              "      <td>0</td>\n",
              "      <td>56.528448</td>\n",
              "      <td>84.981246</td>\n",
              "      <td>NaN</td>\n",
              "      <td>634027, г Томск, ул Смирнова, д 9</td>\n",
              "      <td>...</td>\n",
              "      <td>0.063007</td>\n",
              "      <td>1</td>\n",
              "      <td>185.0</td>\n",
              "      <td>0.025545</td>\n",
              "      <td>Томская область</td>\n",
              "      <td>1078280.0</td>\n",
              "      <td>780804.0</td>\n",
              "      <td>297476.0</td>\n",
              "      <td>Томская область</td>\n",
              "      <td>38642.722645</td>\n",
              "    </tr>\n",
              "  </tbody>\n",
              "</table>\n",
              "<p>3 rows × 182 columns</p>\n",
              "</div>"
            ],
            "text/plain": [
              "      Unnamed: 0                                 address  \\\n",
              "2888        2888  SVETLANOVSKAYA, 50        NOVOSIBIRSK    \n",
              "7184         923  UL. POBEDY D.29           NOVOKUJBYSHE   \n",
              "7939        1678  Smirnova, 9            Tomsk             \n",
              "\n",
              "                                            address_rus  atm_group      id  \\\n",
              "2888  Светлановская улица, 50, Новосибирск, Россия, ...     3185.5  2146.0   \n",
              "7184  улица 50 лет Победы, 29, микрорайон Заречье, Ч...     3185.5  2301.0   \n",
              "7939           улица Смирнова, 9, Томск, Россия, 634027     8083.0  3882.0   \n",
              "\n",
              "      is_train        lat       long    target  \\\n",
              "2888         1  55.081725  82.932871 -0.124736   \n",
              "7184         0  53.236356  40.002267       NaN   \n",
              "7939         0  56.528448  84.981246       NaN   \n",
              "\n",
              "                                           address_norm      ...       \\\n",
              "2888      630047, г Новосибирск, ул Светлановская, д 50      ...        \n",
              "7184  399902, Липецкая обл, г Чаплыгин, ул 50 лет По...      ...        \n",
              "7939                  634027, г Томск, ул Смирнова, д 9      ...        \n",
              "\n",
              "     trolleybus_min count  count_region  region_mean               region_x  \\\n",
              "2888       0.108751     1         277.0    -0.021194  Новосибирская область   \n",
              "7184       0.760351     1          64.0    -0.016877       Липецкая область   \n",
              "7939       0.063007     1         185.0     0.025545        Томская область   \n",
              "\n",
              "     population2018  urban2018 rural2018               region_y        salary  \n",
              "2888      2788849.0  2204326.0  584523.0  Новосибирская область  34001.840778  \n",
              "7184      1150201.0   740253.0  409948.0       Липецкая область  30128.640749  \n",
              "7939      1078280.0   780804.0  297476.0        Томская область  38642.722645  \n",
              "\n",
              "[3 rows x 182 columns]"
            ]
          },
          "metadata": {
            "tags": []
          },
          "execution_count": 80
        }
      ]
    },
    {
      "metadata": {
        "id": "iDPjYD5UUjOt",
        "colab_type": "code",
        "colab": {}
      },
      "cell_type": "code",
      "source": [
        "df.drop(['region_x','region_y'], axis=1, inplace=True)"
      ],
      "execution_count": 0,
      "outputs": []
    },
    {
      "metadata": {
        "id": "XW-IFUnjoiec",
        "colab_type": "code",
        "colab": {}
      },
      "cell_type": "code",
      "source": [
        "#df.head()"
      ],
      "execution_count": 0,
      "outputs": []
    },
    {
      "metadata": {
        "id": "QYzhk45Vo8yh",
        "colab_type": "code",
        "outputId": "54a33ec0-8241-4160-d02a-1e5ccd788c1e",
        "colab": {
          "base_uri": "https://localhost:8080/",
          "height": 50
        }
      },
      "cell_type": "code",
      "source": [
        "%%time\n",
        "# Расстояния до ближайших банкоматов\n",
        "\n",
        "R = 6373.0 # радиус земли в километрах\n",
        "\n",
        "def distance(x,y):\n",
        "    \"\"\"\n",
        "    Параметры\n",
        "    ----------\n",
        "    x : tuple, широта и долгота первой геокоординаты \n",
        "    y : tuple, широта и долгота второй геокоординаты \n",
        "    \n",
        "    Результат\n",
        "    ----------\n",
        "    result : дистанция в километрах между двумя геокоординатами\n",
        "    \"\"\"\n",
        "    lat_a, long_a, lat_b, long_b = map(radians, [*x,*y])    \n",
        "    dlon = long_b - long_a\n",
        "    dlat = lat_b - lat_a\n",
        "    a = sin(dlat/2)**2 + cos(lat_a) * cos(lat_b) * sin(dlon/2)**2\n",
        "    c = 2 * atan2(sqrt(a), sqrt(1 - a))\n",
        "    return R * c"
      ],
      "execution_count": 0,
      "outputs": [
        {
          "output_type": "stream",
          "text": [
            "CPU times: user 6 µs, sys: 0 ns, total: 6 µs\n",
            "Wall time: 12.2 µs\n"
          ],
          "name": "stdout"
        }
      ]
    },
    {
      "metadata": {
        "id": "GF9HIyojpB06",
        "colab_type": "code",
        "outputId": "6d03b326-e387-4ce6-fc34-28dd9bb12549",
        "colab": {
          "base_uri": "https://localhost:8080/",
          "height": 50
        }
      },
      "cell_type": "code",
      "source": [
        "%%time\n",
        "\n",
        "from sklearn.neighbors import KNeighborsClassifier\n",
        "from math import sin, cos, sqrt, atan2, radians\n",
        "\n",
        "knc = KNeighborsClassifier(metric=distance)\n",
        "dots = df[['lat','long']].dropna()\n",
        "\n",
        "knc.fit(X=dots , y=np.ones(dots.shape[0]))\n",
        "\n",
        "distances, indexes = knc.kneighbors(X=dots,n_neighbors=6,)\n",
        "\n",
        "for i in range(1,6):\n",
        "    dots['distance_%s'%i] = distances[:,i]\n",
        "    dots['indexes_%s'%i] = indexes[:,i]\n",
        "    \n",
        "dots['mean'] = dots.iloc[:,dots.columns.str.contains('distance')].mean(axis=1)\n",
        "\n",
        "dots.head()\n",
        "\n",
        "df = pd.concat([df,dots], axis=1)\n",
        "df.head()"
      ],
      "execution_count": 0,
      "outputs": [
        {
          "output_type": "stream",
          "text": [
            "CPU times: user 18.9 s, sys: 1.82 ms, total: 18.9 s\n",
            "Wall time: 18.9 s\n"
          ],
          "name": "stdout"
        }
      ]
    },
    {
      "metadata": {
        "id": "E_jkiGfSpah3",
        "colab_type": "code",
        "colab": {}
      },
      "cell_type": "code",
      "source": [
        "rare_cities = df.city.value_counts()[(df.city.value_counts() < 20) ==True].index\n",
        "df.city = df.city.apply(lambda x: 'RARE' if x in rare_cities else x)\n",
        "df.city= df.city.rank().fillna(-1)"
      ],
      "execution_count": 0,
      "outputs": []
    },
    {
      "metadata": {
        "id": "CjWIZX0bpfhW",
        "colab_type": "code",
        "colab": {}
      },
      "cell_type": "code",
      "source": [
        "df['atm_group_mean'] = df.groupby('atm_group')['target'].transform('mean')\n",
        "# df['atm_group_std'] = df.groupby('atm_group')['target'].transform('std')"
      ],
      "execution_count": 0,
      "outputs": []
    },
    {
      "metadata": {
        "id": "FiJvjPm-sKg0",
        "colab_type": "code",
        "outputId": "cd1a5e88-d8f1-4c64-dacd-f9860169ac6a",
        "colab": {
          "base_uri": "https://localhost:8080/",
          "height": 210
        }
      },
      "cell_type": "code",
      "source": [
        "df.sample()"
      ],
      "execution_count": 0,
      "outputs": [
        {
          "output_type": "execute_result",
          "data": {
            "text/html": [
              "<div>\n",
              "<style scoped>\n",
              "    .dataframe tbody tr th:only-of-type {\n",
              "        vertical-align: middle;\n",
              "    }\n",
              "\n",
              "    .dataframe tbody tr th {\n",
              "        vertical-align: top;\n",
              "    }\n",
              "\n",
              "    .dataframe thead th {\n",
              "        text-align: right;\n",
              "    }\n",
              "</style>\n",
              "<table border=\"1\" class=\"dataframe\">\n",
              "  <thead>\n",
              "    <tr style=\"text-align: right;\">\n",
              "      <th></th>\n",
              "      <th>Unnamed: 0</th>\n",
              "      <th>address</th>\n",
              "      <th>address_rus</th>\n",
              "      <th>atm_group</th>\n",
              "      <th>id</th>\n",
              "      <th>is_train</th>\n",
              "      <th>lat</th>\n",
              "      <th>long</th>\n",
              "      <th>target</th>\n",
              "      <th>address_norm</th>\n",
              "      <th>...</th>\n",
              "      <th>distance_2</th>\n",
              "      <th>indexes_2</th>\n",
              "      <th>distance_3</th>\n",
              "      <th>indexes_3</th>\n",
              "      <th>distance_4</th>\n",
              "      <th>indexes_4</th>\n",
              "      <th>distance_5</th>\n",
              "      <th>indexes_5</th>\n",
              "      <th>mean</th>\n",
              "      <th>atm_group_mean</th>\n",
              "    </tr>\n",
              "  </thead>\n",
              "  <tbody>\n",
              "    <tr>\n",
              "      <th>807</th>\n",
              "      <td>807</td>\n",
              "      <td>D. 3, UL. MINAEVA         ULYANOVSK G</td>\n",
              "      <td>улица Минаева, 3, Ульяновск, Россия, 432017</td>\n",
              "      <td>5478.0</td>\n",
              "      <td>6781.0</td>\n",
              "      <td>1</td>\n",
              "      <td>54.307531</td>\n",
              "      <td>48.38124</td>\n",
              "      <td>-0.03006</td>\n",
              "      <td>432017, г Ульяновск, ул Минаева, д 3</td>\n",
              "      <td>...</td>\n",
              "      <td>0.70407</td>\n",
              "      <td>1379</td>\n",
              "      <td>0.70407</td>\n",
              "      <td>791</td>\n",
              "      <td>1.19454</td>\n",
              "      <td>5291</td>\n",
              "      <td>1.19454</td>\n",
              "      <td>5292</td>\n",
              "      <td>0.849518</td>\n",
              "      <td>-0.034487</td>\n",
              "    </tr>\n",
              "  </tbody>\n",
              "</table>\n",
              "<p>1 rows × 194 columns</p>\n",
              "</div>"
            ],
            "text/plain": [
              "     Unnamed: 0                                 address  \\\n",
              "807         807  D. 3, UL. MINAEVA         ULYANOVSK G    \n",
              "\n",
              "                                     address_rus  atm_group      id  is_train  \\\n",
              "807  улица Минаева, 3, Ульяновск, Россия, 432017     5478.0  6781.0         1   \n",
              "\n",
              "           lat      long   target                          address_norm  \\\n",
              "807  54.307531  48.38124 -0.03006  432017, г Ульяновск, ул Минаева, д 3   \n",
              "\n",
              "          ...       distance_2 indexes_2  distance_3  indexes_3 distance_4  \\\n",
              "807       ...          0.70407      1379     0.70407        791    1.19454   \n",
              "\n",
              "    indexes_4 distance_5 indexes_5      mean  atm_group_mean  \n",
              "807      5291    1.19454      5292  0.849518       -0.034487  \n",
              "\n",
              "[1 rows x 194 columns]"
            ]
          },
          "metadata": {
            "tags": []
          },
          "execution_count": 86
        }
      ]
    },
    {
      "metadata": {
        "id": "7QOtU2JXpnzX",
        "colab_type": "code",
        "outputId": "26e7a6b6-cab5-4293-c954-9b40b3adee81",
        "colab": {
          "base_uri": "https://localhost:8080/",
          "height": 34
        }
      },
      "cell_type": "code",
      "source": [
        "X_train = df[df['is_train'] == 1].drop(['target','is_train', 'address','address_rus','Unnamed: 0', 'address_norm', 'address_post', \n",
        "       'address_yandex', 'address_lon', 'address_lat', 'region','SuperAdministrativeAreaName','AdministrativeAreaName','SubAdministrativeAreaName','LocalityName'], axis=1)\n",
        "y_train =  df[df['is_train'] == 1]['target']\n",
        "\n",
        "X_test = df[df['is_train'] == 0].drop(['target','is_train', 'address','address_rus','Unnamed: 0', 'address_norm', 'address_post', \n",
        "       'address_yandex', 'address_lon', 'address_lat', 'region','SuperAdministrativeAreaName','AdministrativeAreaName','SubAdministrativeAreaName','LocalityName'], axis=1)\n",
        "index_test = df[df['is_train'] == 0]['Unnamed: 0']\n",
        "\n",
        "X_train.shape, y_train.shape, X_test.shape, index_test.shape"
      ],
      "execution_count": 0,
      "outputs": [
        {
          "output_type": "execute_result",
          "data": {
            "text/plain": [
              "((6261, 180), (6261,), (2504, 180), (2504,))"
            ]
          },
          "metadata": {
            "tags": []
          },
          "execution_count": 87
        }
      ]
    },
    {
      "metadata": {
        "id": "-ftZ_Wkjp4IR",
        "colab_type": "code",
        "outputId": "a6a02c82-fbfa-4374-fabb-e2eafcb87b9c",
        "colab": {
          "base_uri": "https://localhost:8080/",
          "height": 34
        }
      },
      "cell_type": "code",
      "source": [
        "from sklearn.model_selection import train_test_split\n",
        "\n",
        "X_tra, X_val, y_tra, y_val = train_test_split(X_train, y_train, test_size=0.5, random_state=42)\n",
        "\n",
        "X_tra.shape, X_val.shape"
      ],
      "execution_count": 0,
      "outputs": [
        {
          "output_type": "execute_result",
          "data": {
            "text/plain": [
              "((3130, 180), (3131, 180))"
            ]
          },
          "metadata": {
            "tags": []
          },
          "execution_count": 88
        }
      ]
    },
    {
      "metadata": {
        "id": "oggRBweXp7nR",
        "colab_type": "code",
        "outputId": "7d3283c8-bba5-489a-dfba-db696efaa4e9",
        "colab": {
          "base_uri": "https://localhost:8080/",
          "height": 269
        }
      },
      "cell_type": "code",
      "source": [
        "!pip install lightgbm\n",
        "!pip install eli5"
      ],
      "execution_count": 0,
      "outputs": [
        {
          "output_type": "stream",
          "text": [
            "Requirement already satisfied: lightgbm in /usr/local/lib/python3.6/dist-packages (2.2.2)\n",
            "Requirement already satisfied: numpy in /usr/local/lib/python3.6/dist-packages (from lightgbm) (1.14.6)\n",
            "Requirement already satisfied: scikit-learn in /usr/local/lib/python3.6/dist-packages (from lightgbm) (0.20.2)\n",
            "Requirement already satisfied: scipy in /usr/local/lib/python3.6/dist-packages (from lightgbm) (1.1.0)\n",
            "Requirement already satisfied: eli5 in /usr/local/lib/python3.6/dist-packages (0.8.1)\n",
            "Requirement already satisfied: tabulate>=0.7.7 in /usr/local/lib/python3.6/dist-packages (from eli5) (0.8.2)\n",
            "Requirement already satisfied: jinja2 in /usr/local/lib/python3.6/dist-packages (from eli5) (2.10)\n",
            "Requirement already satisfied: six in /usr/local/lib/python3.6/dist-packages (from eli5) (1.11.0)\n",
            "Requirement already satisfied: attrs>16.0.0 in /usr/local/lib/python3.6/dist-packages (from eli5) (18.2.0)\n",
            "Requirement already satisfied: scikit-learn>=0.18 in /usr/local/lib/python3.6/dist-packages (from eli5) (0.20.2)\n",
            "Requirement already satisfied: graphviz in /usr/local/lib/python3.6/dist-packages (from eli5) (0.10.1)\n",
            "Requirement already satisfied: numpy>=1.9.0 in /usr/local/lib/python3.6/dist-packages (from eli5) (1.14.6)\n",
            "Requirement already satisfied: scipy in /usr/local/lib/python3.6/dist-packages (from eli5) (1.1.0)\n",
            "Requirement already satisfied: typing in /usr/local/lib/python3.6/dist-packages (from eli5) (3.6.6)\n",
            "Requirement already satisfied: MarkupSafe>=0.23 in /usr/local/lib/python3.6/dist-packages (from jinja2->eli5) (1.1.0)\n"
          ],
          "name": "stdout"
        }
      ]
    },
    {
      "metadata": {
        "id": "EmBmVc_gp-uF",
        "colab_type": "code",
        "colab": {}
      },
      "cell_type": "code",
      "source": [
        "import lightgbm as lgb\n",
        "\n",
        "clf = lgb.LGBMRegressor().fit(X_tra.fillna(0), y_tra)"
      ],
      "execution_count": 0,
      "outputs": []
    },
    {
      "metadata": {
        "id": "PWj6kscFqFis",
        "colab_type": "code",
        "outputId": "0df522ca-c5c0-474b-8d68-fb2c37e8c9ee",
        "colab": {
          "base_uri": "https://localhost:8080/",
          "height": 386
        }
      },
      "cell_type": "code",
      "source": [
        "import eli5\n",
        "from eli5.sklearn import PermutationImportance\n",
        "\n",
        "perm = PermutationImportance(clf).fit(X_val.fillna(0), y_val)\n",
        "eli5.show_weights(perm, feature_names = X_val.columns.tolist())"
      ],
      "execution_count": 0,
      "outputs": [
        {
          "output_type": "execute_result",
          "data": {
            "text/html": [
              "\n",
              "    <style>\n",
              "    table.eli5-weights tr:hover {\n",
              "        filter: brightness(85%);\n",
              "    }\n",
              "</style>\n",
              "\n",
              "\n",
              "\n",
              "    \n",
              "\n",
              "    \n",
              "\n",
              "    \n",
              "\n",
              "    \n",
              "\n",
              "    \n",
              "\n",
              "    \n",
              "\n",
              "\n",
              "    \n",
              "\n",
              "    \n",
              "\n",
              "    \n",
              "\n",
              "    \n",
              "\n",
              "    \n",
              "\n",
              "    \n",
              "\n",
              "\n",
              "    \n",
              "\n",
              "    \n",
              "\n",
              "    \n",
              "\n",
              "    \n",
              "\n",
              "    \n",
              "        <table class=\"eli5-weights eli5-feature-importances\" style=\"border-collapse: collapse; border: none; margin-top: 0em; table-layout: auto;\">\n",
              "    <thead>\n",
              "    <tr style=\"border: none;\">\n",
              "        <th style=\"padding: 0 1em 0 0.5em; text-align: right; border: none;\">Weight</th>\n",
              "        <th style=\"padding: 0 0.5em 0 0.5em; text-align: left; border: none;\">Feature</th>\n",
              "    </tr>\n",
              "    </thead>\n",
              "    <tbody>\n",
              "    \n",
              "        <tr style=\"background-color: hsl(120, 100.00%, 80.00%); border: none;\">\n",
              "            <td style=\"padding: 0 1em 0 0.5em; text-align: right; border: none;\">\n",
              "                0.9370\n",
              "                \n",
              "                    &plusmn; 0.0452\n",
              "                \n",
              "            </td>\n",
              "            <td style=\"padding: 0 0.5em 0 0.5em; text-align: left; border: none;\">\n",
              "                atm_group\n",
              "            </td>\n",
              "        </tr>\n",
              "    \n",
              "        <tr style=\"background-color: hsl(120, 100.00%, 96.21%); border: none;\">\n",
              "            <td style=\"padding: 0 1em 0 0.5em; text-align: right; border: none;\">\n",
              "                0.0871\n",
              "                \n",
              "                    &plusmn; 0.0061\n",
              "                \n",
              "            </td>\n",
              "            <td style=\"padding: 0 0.5em 0 0.5em; text-align: left; border: none;\">\n",
              "                atm_group_mean\n",
              "            </td>\n",
              "        </tr>\n",
              "    \n",
              "        <tr style=\"background-color: hsl(120, 100.00%, 97.96%); border: none;\">\n",
              "            <td style=\"padding: 0 1em 0 0.5em; text-align: right; border: none;\">\n",
              "                0.0360\n",
              "                \n",
              "                    &plusmn; 0.0068\n",
              "                \n",
              "            </td>\n",
              "            <td style=\"padding: 0 0.5em 0 0.5em; text-align: left; border: none;\">\n",
              "                region_mean\n",
              "            </td>\n",
              "        </tr>\n",
              "    \n",
              "        <tr style=\"background-color: hsl(120, 100.00%, 99.21%); border: none;\">\n",
              "            <td style=\"padding: 0 1em 0 0.5em; text-align: right; border: none;\">\n",
              "                0.0092\n",
              "                \n",
              "                    &plusmn; 0.0021\n",
              "                \n",
              "            </td>\n",
              "            <td style=\"padding: 0 0.5em 0 0.5em; text-align: left; border: none;\">\n",
              "                distance_1\n",
              "            </td>\n",
              "        </tr>\n",
              "    \n",
              "        <tr style=\"background-color: hsl(120, 100.00%, 99.52%); border: none;\">\n",
              "            <td style=\"padding: 0 1em 0 0.5em; text-align: right; border: none;\">\n",
              "                0.0046\n",
              "                \n",
              "                    &plusmn; 0.0014\n",
              "                \n",
              "            </td>\n",
              "            <td style=\"padding: 0 0.5em 0 0.5em; text-align: left; border: none;\">\n",
              "                id\n",
              "            </td>\n",
              "        </tr>\n",
              "    \n",
              "        <tr style=\"background-color: hsl(120, 100.00%, 99.66%); border: none;\">\n",
              "            <td style=\"padding: 0 1em 0 0.5em; text-align: right; border: none;\">\n",
              "                0.0028\n",
              "                \n",
              "                    &plusmn; 0.0003\n",
              "                \n",
              "            </td>\n",
              "            <td style=\"padding: 0 0.5em 0 0.5em; text-align: left; border: none;\">\n",
              "                atm_mean_dist_k_5\n",
              "            </td>\n",
              "        </tr>\n",
              "    \n",
              "        <tr style=\"background-color: hsl(120, 100.00%, 99.66%); border: none;\">\n",
              "            <td style=\"padding: 0 1em 0 0.5em; text-align: right; border: none;\">\n",
              "                0.0028\n",
              "                \n",
              "                    &plusmn; 0.0007\n",
              "                \n",
              "            </td>\n",
              "            <td style=\"padding: 0 0.5em 0 0.5em; text-align: left; border: none;\">\n",
              "                population2018\n",
              "            </td>\n",
              "        </tr>\n",
              "    \n",
              "        <tr style=\"background-color: hsl(120, 100.00%, 99.72%); border: none;\">\n",
              "            <td style=\"padding: 0 1em 0 0.5em; text-align: right; border: none;\">\n",
              "                0.0021\n",
              "                \n",
              "                    &plusmn; 0.0010\n",
              "                \n",
              "            </td>\n",
              "            <td style=\"padding: 0 0.5em 0 0.5em; text-align: left; border: none;\">\n",
              "                atm_mean_dist_k_3\n",
              "            </td>\n",
              "        </tr>\n",
              "    \n",
              "        <tr style=\"background-color: hsl(120, 100.00%, 99.76%); border: none;\">\n",
              "            <td style=\"padding: 0 1em 0 0.5em; text-align: right; border: none;\">\n",
              "                0.0017\n",
              "                \n",
              "                    &plusmn; 0.0007\n",
              "                \n",
              "            </td>\n",
              "            <td style=\"padding: 0 0.5em 0 0.5em; text-align: left; border: none;\">\n",
              "                distance_5\n",
              "            </td>\n",
              "        </tr>\n",
              "    \n",
              "        <tr style=\"background-color: hsl(120, 100.00%, 99.80%); border: none;\">\n",
              "            <td style=\"padding: 0 1em 0 0.5em; text-align: right; border: none;\">\n",
              "                0.0013\n",
              "                \n",
              "                    &plusmn; 0.0009\n",
              "                \n",
              "            </td>\n",
              "            <td style=\"padding: 0 0.5em 0 0.5em; text-align: left; border: none;\">\n",
              "                distance_2\n",
              "            </td>\n",
              "        </tr>\n",
              "    \n",
              "        <tr style=\"background-color: hsl(120, 100.00%, 99.81%); border: none;\">\n",
              "            <td style=\"padding: 0 1em 0 0.5em; text-align: right; border: none;\">\n",
              "                0.0012\n",
              "                \n",
              "                    &plusmn; 0.0012\n",
              "                \n",
              "            </td>\n",
              "            <td style=\"padding: 0 0.5em 0 0.5em; text-align: left; border: none;\">\n",
              "                entrance_min\n",
              "            </td>\n",
              "        </tr>\n",
              "    \n",
              "        <tr style=\"background-color: hsl(120, 100.00%, 99.81%); border: none;\">\n",
              "            <td style=\"padding: 0 1em 0 0.5em; text-align: right; border: none;\">\n",
              "                0.0012\n",
              "                \n",
              "                    &plusmn; 0.0007\n",
              "                \n",
              "            </td>\n",
              "            <td style=\"padding: 0 0.5em 0 0.5em; text-align: left; border: none;\">\n",
              "                atm_points_in_0.005\n",
              "            </td>\n",
              "        </tr>\n",
              "    \n",
              "        <tr style=\"background-color: hsl(120, 100.00%, 99.81%); border: none;\">\n",
              "            <td style=\"padding: 0 1em 0 0.5em; text-align: right; border: none;\">\n",
              "                0.0012\n",
              "                \n",
              "                    &plusmn; 0.0006\n",
              "                \n",
              "            </td>\n",
              "            <td style=\"padding: 0 0.5em 0 0.5em; text-align: left; border: none;\">\n",
              "                office_mean_dist_k_8\n",
              "            </td>\n",
              "        </tr>\n",
              "    \n",
              "        <tr style=\"background-color: hsl(120, 100.00%, 99.82%); border: none;\">\n",
              "            <td style=\"padding: 0 1em 0 0.5em; text-align: right; border: none;\">\n",
              "                0.0011\n",
              "                \n",
              "                    &plusmn; 0.0011\n",
              "                \n",
              "            </td>\n",
              "            <td style=\"padding: 0 0.5em 0 0.5em; text-align: left; border: none;\">\n",
              "                tagged_mean_dist_k_2\n",
              "            </td>\n",
              "        </tr>\n",
              "    \n",
              "        <tr style=\"background-color: hsl(120, 100.00%, 99.82%); border: none;\">\n",
              "            <td style=\"padding: 0 1em 0 0.5em; text-align: right; border: none;\">\n",
              "                0.0011\n",
              "                \n",
              "                    &plusmn; 0.0006\n",
              "                \n",
              "            </td>\n",
              "            <td style=\"padding: 0 0.5em 0 0.5em; text-align: left; border: none;\">\n",
              "                shop_points_in_0.005\n",
              "            </td>\n",
              "        </tr>\n",
              "    \n",
              "        <tr style=\"background-color: hsl(120, 100.00%, 99.83%); border: none;\">\n",
              "            <td style=\"padding: 0 1em 0 0.5em; text-align: right; border: none;\">\n",
              "                0.0010\n",
              "                \n",
              "                    &plusmn; 0.0013\n",
              "                \n",
              "            </td>\n",
              "            <td style=\"padding: 0 0.5em 0 0.5em; text-align: left; border: none;\">\n",
              "                lat\n",
              "            </td>\n",
              "        </tr>\n",
              "    \n",
              "        <tr style=\"background-color: hsl(120, 100.00%, 99.84%); border: none;\">\n",
              "            <td style=\"padding: 0 1em 0 0.5em; text-align: right; border: none;\">\n",
              "                0.0010\n",
              "                \n",
              "                    &plusmn; 0.0012\n",
              "                \n",
              "            </td>\n",
              "            <td style=\"padding: 0 0.5em 0 0.5em; text-align: left; border: none;\">\n",
              "                atm_points_in_0.0025\n",
              "            </td>\n",
              "        </tr>\n",
              "    \n",
              "        <tr style=\"background-color: hsl(120, 100.00%, 99.84%); border: none;\">\n",
              "            <td style=\"padding: 0 1em 0 0.5em; text-align: right; border: none;\">\n",
              "                0.0009\n",
              "                \n",
              "                    &plusmn; 0.0007\n",
              "                \n",
              "            </td>\n",
              "            <td style=\"padding: 0 0.5em 0 0.5em; text-align: left; border: none;\">\n",
              "                shop_mean_dist_k_13\n",
              "            </td>\n",
              "        </tr>\n",
              "    \n",
              "        <tr style=\"background-color: hsl(120, 100.00%, 99.85%); border: none;\">\n",
              "            <td style=\"padding: 0 1em 0 0.5em; text-align: right; border: none;\">\n",
              "                0.0009\n",
              "                \n",
              "                    &plusmn; 0.0007\n",
              "                \n",
              "            </td>\n",
              "            <td style=\"padding: 0 0.5em 0 0.5em; text-align: left; border: none;\">\n",
              "                long\n",
              "            </td>\n",
              "        </tr>\n",
              "    \n",
              "        <tr style=\"background-color: hsl(120, 100.00%, 99.85%); border: none;\">\n",
              "            <td style=\"padding: 0 1em 0 0.5em; text-align: right; border: none;\">\n",
              "                0.0009\n",
              "                \n",
              "                    &plusmn; 0.0006\n",
              "                \n",
              "            </td>\n",
              "            <td style=\"padding: 0 0.5em 0 0.5em; text-align: left; border: none;\">\n",
              "                count_region\n",
              "            </td>\n",
              "        </tr>\n",
              "    \n",
              "    \n",
              "        \n",
              "            <tr style=\"background-color: hsl(120, 100.00%, 99.85%); border: none;\">\n",
              "                <td colspan=\"2\" style=\"padding: 0 0.5em 0 0.5em; text-align: center; border: none; white-space: nowrap;\">\n",
              "                    <i>&hellip; 160 more &hellip;</i>\n",
              "                </td>\n",
              "            </tr>\n",
              "        \n",
              "    \n",
              "    </tbody>\n",
              "</table>\n",
              "    \n",
              "\n",
              "    \n",
              "\n",
              "\n",
              "    \n",
              "\n",
              "    \n",
              "\n",
              "    \n",
              "\n",
              "    \n",
              "\n",
              "    \n",
              "\n",
              "    \n",
              "\n",
              "\n",
              "\n"
            ],
            "text/plain": [
              "<IPython.core.display.HTML object>"
            ]
          },
          "metadata": {
            "tags": []
          },
          "execution_count": 90
        }
      ]
    },
    {
      "metadata": {
        "id": "2L32PlmBqK--",
        "colab_type": "code",
        "outputId": "cf73df11-801c-4011-c763-a60de617ba01",
        "colab": {
          "base_uri": "https://localhost:8080/",
          "height": 319
        }
      },
      "cell_type": "code",
      "source": [
        "selected = eli5.explain_weights_df(perm, feature_names = X_val.columns.tolist())\n",
        "features_selected = selected[selected['weight'] > 1.75 * selected['std']]['feature'].values # 1.9 - 043007\n",
        "len(X_val.columns), len(features_selected), features_selected"
      ],
      "execution_count": 0,
      "outputs": [
        {
          "output_type": "execute_result",
          "data": {
            "text/plain": [
              "(180,\n",
              " 47,\n",
              " array(['atm_group', 'atm_group_mean', 'region_mean', 'distance_1', 'id',\n",
              "        'atm_mean_dist_k_5', 'population2018', 'atm_mean_dist_k_3',\n",
              "        'distance_5', 'distance_2', 'entrance_min', 'atm_points_in_0.005',\n",
              "        'office_mean_dist_k_8', 'tagged_mean_dist_k_2',\n",
              "        'shop_points_in_0.005', 'shop_mean_dist_k_13', 'long',\n",
              "        'count_region', 'salary', 'distance_to_citycenter',\n",
              "        'tagged_mean_dist_k_13', 'subway_mean_dist_k_2',\n",
              "        'tagged_points_in_0.0025', 'parking_min', 'distance_4',\n",
              "        'citycenter_lon', 'office_mean_dist_k_2', 'train_mean_dist_k_5',\n",
              "        'payment:visa_mean_dist_k_5', 'tagged_min', 'office_mean_dist_k_3',\n",
              "        'cemetery_mean_dist_k_13', 'historic_min', 'atm_points_in_0.01',\n",
              "        'office_min', 'trolleybus_mean_dist_k_2', 'train_min',\n",
              "        'tagged_mean_dist_k_8', 'trolleybus_mean_dist_k_5', 'religion_min',\n",
              "        'rural2018', 'subway_min', 'entrance_mean_dist_k_5',\n",
              "        'train_mean_dist_k_13', 'cemetery_mean_dist_k_5',\n",
              "        'payment:visa_min', 'trolleybus_points_in_0.005'], dtype=object))"
            ]
          },
          "metadata": {
            "tags": []
          },
          "execution_count": 101
        }
      ]
    },
    {
      "metadata": {
        "id": "RgzLn55uqNE1",
        "colab_type": "code",
        "outputId": "d6f8a54f-c41f-47f4-a409-24bcdec16080",
        "colab": {
          "base_uri": "https://localhost:8080/",
          "height": 386
        }
      },
      "cell_type": "code",
      "source": [
        "  import lightgbm as lgb\n",
        "  from sklearn.model_selection import KFold\n",
        "  random_state = 42\n",
        "\n",
        "  score = []\n",
        "\n",
        "  params = {\n",
        "      'objective' : 'rmse',\n",
        "      }\n",
        "  n_fold = 4\n",
        "  n_estimators = 50000\n",
        "  nthread = 2\n",
        "  folds = KFold(n_splits=n_fold, shuffle=True, random_state=random_state)\n",
        "  model = lgb.LGBMRegressor(**params, n_estimators = n_estimators, nthread = nthread, n_jobs = -1)\n",
        "\n",
        "  prediction = np.zeros(X_test.shape[0])\n",
        "\n",
        "  for fold_n, (train_index, test_index) in enumerate(folds.split(X_train)):\n",
        "      print('Fold:', fold_n)\n",
        "      X_tr, X_va = X_train[features_selected].iloc[train_index], X_train[features_selected].iloc[test_index]\n",
        "      y_tr, y_va = y_train.iloc[train_index], y_train.iloc[test_index]\n",
        "\n",
        "      model.fit(X_tr, y_tr, \n",
        "              eval_set=[(X_tr, y_tr), (X_va, y_va)], eval_metric='rmse',\n",
        "              verbose=100, early_stopping_rounds=50)\n",
        "\n",
        "      y_pred = model.predict(X_test[features_selected], num_iteration=model.best_iteration_)\n",
        "      score.append(model.best_score_['valid_1']['rmse'])\n",
        "\n",
        "      prediction += y_pred\n",
        "\n",
        "  prediction /= n_fold\n",
        "\n",
        "  np.mean(score), np.std(score)"
      ],
      "execution_count": 0,
      "outputs": [
        {
          "output_type": "stream",
          "text": [
            "Fold: 0\n",
            "Training until validation scores don't improve for 50 rounds.\n",
            "[100]\ttraining's rmse: 0.0275677\tvalid_1's rmse: 0.0424815\n",
            "Early stopping, best iteration is:\n",
            "[117]\ttraining's rmse: 0.0258703\tvalid_1's rmse: 0.0424448\n",
            "Fold: 1\n",
            "Training until validation scores don't improve for 50 rounds.\n",
            "[100]\ttraining's rmse: 0.0273367\tvalid_1's rmse: 0.042706\n",
            "Early stopping, best iteration is:\n",
            "[62]\ttraining's rmse: 0.0320188\tvalid_1's rmse: 0.042508\n",
            "Fold: 2\n",
            "Training until validation scores don't improve for 50 rounds.\n",
            "[100]\ttraining's rmse: 0.0271209\tvalid_1's rmse: 0.0440823\n",
            "[200]\ttraining's rmse: 0.0198158\tvalid_1's rmse: 0.0439146\n",
            "Early stopping, best iteration is:\n",
            "[187]\ttraining's rmse: 0.020592\tvalid_1's rmse: 0.0438863\n",
            "Fold: 3\n",
            "Training until validation scores don't improve for 50 rounds.\n",
            "[100]\ttraining's rmse: 0.0274904\tvalid_1's rmse: 0.0433808\n",
            "Early stopping, best iteration is:\n",
            "[145]\ttraining's rmse: 0.0235998\tvalid_1's rmse: 0.0432754\n"
          ],
          "name": "stdout"
        },
        {
          "output_type": "execute_result",
          "data": {
            "text/plain": [
              "(0.04302860847252227, 0.000593369122034582)"
            ]
          },
          "metadata": {
            "tags": []
          },
          "execution_count": 103
        }
      ]
    },
    {
      "metadata": {
        "id": "mEK24j0bqWgk",
        "colab_type": "code",
        "outputId": "6bb998a5-d003-4f3a-c5fa-21b8b461f734",
        "colab": {
          "base_uri": "https://localhost:8080/",
          "height": 1708
        }
      },
      "cell_type": "code",
      "source": [
        "%matplotlib inline\n",
        "lgb.plot_importance(model, importance_type='gain', figsize=(15,30));"
      ],
      "execution_count": 0,
      "outputs": [
        {
          "output_type": "display_data",
          "data": {
            "image/png": "[encoded data removed]",
            "text/plain": [
              "<matplotlib.figure.Figure at 0x7fa01e3a7b00>"
            ]
          },
          "metadata": {
            "tags": []
          }
        }
      ]
    },
    {
      "metadata": {
        "id": "HRy1JAjRqZiH",
        "colab_type": "code",
        "outputId": "0250576f-ee81-4a2a-cae9-d9a52735fe7a",
        "colab": {
          "base_uri": "https://localhost:8080/",
          "height": 34
        }
      },
      "cell_type": "code",
      "source": [
        "len( prediction )"
      ],
      "execution_count": 0,
      "outputs": [
        {
          "output_type": "execute_result",
          "data": {
            "text/plain": [
              "2504"
            ]
          },
          "metadata": {
            "tags": []
          },
          "execution_count": 105
        }
      ]
    },
    {
      "metadata": {
        "id": "Lf42vz5bqc2r",
        "colab_type": "code",
        "colab": {}
      },
      "cell_type": "code",
      "source": [
        "sub = pd.DataFrame()\n",
        "sub['0'] = index_test\n",
        "sub['2'] = prediction\n",
        "sub.to_csv('rosbank.csv', index=False)"
      ],
      "execution_count": 0,
      "outputs": []
    }
  ]
}